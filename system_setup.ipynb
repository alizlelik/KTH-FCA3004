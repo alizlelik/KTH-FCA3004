{
 "cells": [
  {
   "cell_type": "code",
   "execution_count": 4,
   "metadata": {},
   "outputs": [],
   "source": [
    "import numpy as np\n",
    "import math\n",
    "\n",
    "from system_setup import *"
   ]
  },
  {
   "cell_type": "code",
   "execution_count": null,
   "metadata": {},
   "outputs": [],
   "source": []
  },
  {
   "cell_type": "code",
   "execution_count": 5,
   "metadata": {},
   "outputs": [
    {
     "name": "stdout",
     "output_type": "stream",
     "text": [
      ".pdb file written :)\n"
     ]
    }
   ],
   "source": [
    "atoms = read_pdb(\"./system setup/8x8x4_rotated.pdb\")\n",
    "\n",
    "modified = atoms.copy()\n",
    "for atom in modified:\n",
    "    atom.rotate(\"y\",(atoms[333].x,atoms[333].z),math.pi)\n",
    "    atom.coordinate_shift(x_shift = 4.256*10., y_shift = (2.221+1.379)*10., z_shift = (38.945999 - 71.155998))\n",
    "    atom.number_shift(shift=len(atoms))\n",
    "    \n",
    "cellulose_doubleslab = read_pdb(\"./system setup/8x8x4_rotated.pdb\") + modified\n",
    "write_pdb(cellulose_doubleslab,\"./system setup/8x8x4_rotated_180_1_38.pdb\")"
   ]
  },
  {
   "cell_type": "code",
   "execution_count": null,
   "metadata": {},
   "outputs": [],
   "source": []
  }
 ],
 "metadata": {
  "kernelspec": {
   "display_name": "Python 3",
   "language": "python",
   "name": "python3"
  },
  "language_info": {
   "codemirror_mode": {
    "name": "ipython",
    "version": 3
   },
   "file_extension": ".py",
   "mimetype": "text/x-python",
   "name": "python",
   "nbconvert_exporter": "python",
   "pygments_lexer": "ipython3",
   "version": "3.7.3"
  }
 },
 "nbformat": 4,
 "nbformat_minor": 2
}
